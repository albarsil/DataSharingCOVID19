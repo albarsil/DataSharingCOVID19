{
 "cells": [
  {
   "cell_type": "code",
   "execution_count": 2,
   "metadata": {},
   "outputs": [],
   "source": [
    "import pymongo\n",
    "import pandas as pd\n",
    "import numpy as np\n",
    "from collections import Counter\n",
    "import os\n",
    "import sys\n",
    "import ssl\n",
    "import math"
   ]
  },
  {
   "cell_type": "code",
   "execution_count": 3,
   "metadata": {},
   "outputs": [],
   "source": [
    "pwd = %pwd\n",
    "sys.path.insert(0, os.path.dirname(pwd))\n",
    "pwd = os.path.join(os.path.dirname(pwd), 'dados')"
   ]
  },
  {
   "cell_type": "code",
   "execution_count": 4,
   "metadata": {},
   "outputs": [],
   "source": [
    "data = pd.read_csv(os.path.join(pwd, 'ml_inputs.csv'), sep=';')"
   ]
  },
  {
   "cell_type": "code",
   "execution_count": 5,
   "metadata": {},
   "outputs": [
    {
     "data": {
      "text/html": [
       "<div>\n",
       "<style scoped>\n",
       "    .dataframe tbody tr th:only-of-type {\n",
       "        vertical-align: middle;\n",
       "    }\n",
       "\n",
       "    .dataframe tbody tr th {\n",
       "        vertical-align: top;\n",
       "    }\n",
       "\n",
       "    .dataframe thead th {\n",
       "        text-align: right;\n",
       "    }\n",
       "</style>\n",
       "<table border=\"1\" class=\"dataframe\">\n",
       "  <thead>\n",
       "    <tr style=\"text-align: right;\">\n",
       "      <th></th>\n",
       "      <th>Basófilos</th>\n",
       "      <th>Concentração de Hemoglobina Corpuscular</th>\n",
       "      <th>Eosinófilos</th>\n",
       "      <th>Eritrócitos</th>\n",
       "      <th>Hematócrito</th>\n",
       "      <th>Hemoglobina</th>\n",
       "      <th>Hemoglobina Corpuscular Média</th>\n",
       "      <th>Leucócitos</th>\n",
       "      <th>Linfócitos</th>\n",
       "      <th>Monócitos</th>\n",
       "      <th>Morfologia, Série Branca</th>\n",
       "      <th>Morfologia, Série Vermelha</th>\n",
       "      <th>Neutrófilos</th>\n",
       "      <th>Plaquetas</th>\n",
       "      <th>RDW</th>\n",
       "      <th>VCM</th>\n",
       "      <th>Volume plaquetário médio</th>\n",
       "      <th>class</th>\n",
       "    </tr>\n",
       "  </thead>\n",
       "  <tbody>\n",
       "    <tr>\n",
       "      <th>0</th>\n",
       "      <td>80.0</td>\n",
       "      <td>33.4</td>\n",
       "      <td>110.0</td>\n",
       "      <td>5.66</td>\n",
       "      <td>42.2</td>\n",
       "      <td>14.1</td>\n",
       "      <td>24.9</td>\n",
       "      <td>10440.0</td>\n",
       "      <td>3460.0</td>\n",
       "      <td>850.0</td>\n",
       "      <td>não foram observados caracteres tóxico-degener...</td>\n",
       "      <td>microcitose discreta</td>\n",
       "      <td>5940.0</td>\n",
       "      <td>254000.0</td>\n",
       "      <td>13.6</td>\n",
       "      <td>74.6</td>\n",
       "      <td>10.575065</td>\n",
       "      <td>desconhecido</td>\n",
       "    </tr>\n",
       "    <tr>\n",
       "      <th>1</th>\n",
       "      <td>40.0</td>\n",
       "      <td>34.0</td>\n",
       "      <td>360.0</td>\n",
       "      <td>4.84</td>\n",
       "      <td>47.1</td>\n",
       "      <td>16.0</td>\n",
       "      <td>33.1</td>\n",
       "      <td>4370.0</td>\n",
       "      <td>1720.0</td>\n",
       "      <td>390.0</td>\n",
       "      <td>não foram observados caracteres tóxico-degener...</td>\n",
       "      <td>normais</td>\n",
       "      <td>1860.0</td>\n",
       "      <td>160000.0</td>\n",
       "      <td>12.8</td>\n",
       "      <td>97.3</td>\n",
       "      <td>11.200000</td>\n",
       "      <td>negativo</td>\n",
       "    </tr>\n",
       "    <tr>\n",
       "      <th>2</th>\n",
       "      <td>30.0</td>\n",
       "      <td>34.4</td>\n",
       "      <td>140.0</td>\n",
       "      <td>4.55</td>\n",
       "      <td>40.7</td>\n",
       "      <td>14.0</td>\n",
       "      <td>30.8</td>\n",
       "      <td>5140.0</td>\n",
       "      <td>2080.0</td>\n",
       "      <td>410.0</td>\n",
       "      <td>não foram observados caracteres tóxico-degener...</td>\n",
       "      <td>normais</td>\n",
       "      <td>2480.0</td>\n",
       "      <td>214000.0</td>\n",
       "      <td>12.5</td>\n",
       "      <td>89.5</td>\n",
       "      <td>12.200000</td>\n",
       "      <td>negativo</td>\n",
       "    </tr>\n",
       "    <tr>\n",
       "      <th>3</th>\n",
       "      <td>70.0</td>\n",
       "      <td>33.3</td>\n",
       "      <td>10.0</td>\n",
       "      <td>4.43</td>\n",
       "      <td>40.5</td>\n",
       "      <td>13.5</td>\n",
       "      <td>30.5</td>\n",
       "      <td>6340.0</td>\n",
       "      <td>2100.0</td>\n",
       "      <td>530.0</td>\n",
       "      <td>não foram observados caracteres tóxico-degener...</td>\n",
       "      <td>normais</td>\n",
       "      <td>3630.0</td>\n",
       "      <td>260000.0</td>\n",
       "      <td>13.0</td>\n",
       "      <td>91.4</td>\n",
       "      <td>10.300000</td>\n",
       "      <td>negativo</td>\n",
       "    </tr>\n",
       "    <tr>\n",
       "      <th>4</th>\n",
       "      <td>80.0</td>\n",
       "      <td>31.7</td>\n",
       "      <td>220.0</td>\n",
       "      <td>4.84</td>\n",
       "      <td>41.0</td>\n",
       "      <td>13.0</td>\n",
       "      <td>26.9</td>\n",
       "      <td>7240.0</td>\n",
       "      <td>2570.0</td>\n",
       "      <td>630.0</td>\n",
       "      <td>não foram observados caracteres tóxico-degener...</td>\n",
       "      <td>normais</td>\n",
       "      <td>3740.0</td>\n",
       "      <td>286000.0</td>\n",
       "      <td>13.7</td>\n",
       "      <td>84.7</td>\n",
       "      <td>10.700000</td>\n",
       "      <td>desconhecido</td>\n",
       "    </tr>\n",
       "  </tbody>\n",
       "</table>\n",
       "</div>"
      ],
      "text/plain": [
       "   Basófilos  Concentração de Hemoglobina Corpuscular  Eosinófilos  \\\n",
       "0       80.0                                     33.4        110.0   \n",
       "1       40.0                                     34.0        360.0   \n",
       "2       30.0                                     34.4        140.0   \n",
       "3       70.0                                     33.3         10.0   \n",
       "4       80.0                                     31.7        220.0   \n",
       "\n",
       "   Eritrócitos  Hematócrito  Hemoglobina  Hemoglobina Corpuscular Média  \\\n",
       "0         5.66         42.2         14.1                           24.9   \n",
       "1         4.84         47.1         16.0                           33.1   \n",
       "2         4.55         40.7         14.0                           30.8   \n",
       "3         4.43         40.5         13.5                           30.5   \n",
       "4         4.84         41.0         13.0                           26.9   \n",
       "\n",
       "   Leucócitos  Linfócitos  Monócitos  \\\n",
       "0     10440.0      3460.0      850.0   \n",
       "1      4370.0      1720.0      390.0   \n",
       "2      5140.0      2080.0      410.0   \n",
       "3      6340.0      2100.0      530.0   \n",
       "4      7240.0      2570.0      630.0   \n",
       "\n",
       "                            Morfologia, Série Branca  \\\n",
       "0  não foram observados caracteres tóxico-degener...   \n",
       "1  não foram observados caracteres tóxico-degener...   \n",
       "2  não foram observados caracteres tóxico-degener...   \n",
       "3  não foram observados caracteres tóxico-degener...   \n",
       "4  não foram observados caracteres tóxico-degener...   \n",
       "\n",
       "  Morfologia, Série Vermelha  Neutrófilos  Plaquetas   RDW   VCM  \\\n",
       "0       microcitose discreta       5940.0   254000.0  13.6  74.6   \n",
       "1                    normais       1860.0   160000.0  12.8  97.3   \n",
       "2                    normais       2480.0   214000.0  12.5  89.5   \n",
       "3                    normais       3630.0   260000.0  13.0  91.4   \n",
       "4                    normais       3740.0   286000.0  13.7  84.7   \n",
       "\n",
       "   Volume plaquetário médio         class  \n",
       "0                 10.575065  desconhecido  \n",
       "1                 11.200000      negativo  \n",
       "2                 12.200000      negativo  \n",
       "3                 10.300000      negativo  \n",
       "4                 10.700000  desconhecido  "
      ]
     },
     "execution_count": 5,
     "metadata": {},
     "output_type": "execute_result"
    }
   ],
   "source": [
    "data.head(5)"
   ]
  },
  {
   "cell_type": "markdown",
   "metadata": {},
   "source": [
    "Verifica quantos casos existem para cada classe"
   ]
  },
  {
   "cell_type": "code",
   "execution_count": 6,
   "metadata": {},
   "outputs": [
    {
     "data": {
      "text/plain": [
       "Counter({'desconhecido': 753, 'negativo': 7200, 'positivo': 236})"
      ]
     },
     "execution_count": 6,
     "metadata": {},
     "output_type": "execute_result"
    }
   ],
   "source": [
    "Counter(data['class'])"
   ]
  },
  {
   "cell_type": "code",
   "execution_count": 7,
   "metadata": {},
   "outputs": [],
   "source": [
    "data.drop(data[data['class'] == 'desconhecido'].index,axis=0, inplace=True)"
   ]
  },
  {
   "cell_type": "code",
   "execution_count": 62,
   "metadata": {},
   "outputs": [],
   "source": [
    "import matplotlib.pyplot as plt\n",
    "import seaborn as sns"
   ]
  },
  {
   "cell_type": "code",
   "execution_count": 63,
   "metadata": {},
   "outputs": [
    {
     "data": {
      "text/plain": [
       "<AxesSubplot:>"
      ]
     },
     "execution_count": 63,
     "metadata": {},
     "output_type": "execute_result"
    },
    {
     "data": {
      "image/png": "[encoded data removed]",
      "text/plain": [
       "<Figure size 2880x2160 with 2 Axes>"
      ]
     },
     "metadata": {
      "needs_background": "light"
     },
     "output_type": "display_data"
    }
   ],
   "source": [
    "fig = plt.figure(figsize=(40, 30))\n",
    "ax = fig.add_subplot(1,1,1)\n",
    "ax.xaxis.set_ticks_position('top')\n",
    "\n",
    "cols = [x for x in data.columns if x != 'class']\n",
    "\n",
    "sns.heatmap(\n",
    "    data.corr(),\n",
    "    cmap = sns.diverging_palette(250, len(cols), as_cmap=True),\n",
    "    square=True,\n",
    "    annot=True\n",
    ")"
   ]
  },
  {
   "cell_type": "code",
   "execution_count": 65,
   "metadata": {},
   "outputs": [],
   "source": [
    "data.drop(\n",
    "    ['Hemoglobina Corpuscular Média','Hematócrito','Neutrófilos'],\n",
    "    axis=1,\n",
    "    inplace=True\n",
    ")"
   ]
  },
  {
   "cell_type": "markdown",
   "metadata": {},
   "source": [
    "Transforma os dados categoricos em numericos"
   ]
  },
  {
   "cell_type": "code",
   "execution_count": 30,
   "metadata": {},
   "outputs": [],
   "source": [
    "from sklearn.preprocessing import LabelEncoder"
   ]
  },
  {
   "cell_type": "code",
   "execution_count": 31,
   "metadata": {},
   "outputs": [],
   "source": [
    "encoders = {x:LabelEncoder() for x in ['Morfologia, Série Branca', 'Morfologia, Série Vermelha', 'class']}"
   ]
  },
  {
   "cell_type": "code",
   "execution_count": 32,
   "metadata": {},
   "outputs": [],
   "source": [
    "for c in encoders.keys():\n",
    "    encoders[c].fit(data[c])\n",
    "    data[c] = encoders[c].transform(data[c])"
   ]
  },
  {
   "cell_type": "code",
   "execution_count": 33,
   "metadata": {},
   "outputs": [
    {
     "data": {
      "text/html": [
       "<div>\n",
       "<style scoped>\n",
       "    .dataframe tbody tr th:only-of-type {\n",
       "        vertical-align: middle;\n",
       "    }\n",
       "\n",
       "    .dataframe tbody tr th {\n",
       "        vertical-align: top;\n",
       "    }\n",
       "\n",
       "    .dataframe thead th {\n",
       "        text-align: right;\n",
       "    }\n",
       "</style>\n",
       "<table border=\"1\" class=\"dataframe\">\n",
       "  <thead>\n",
       "    <tr style=\"text-align: right;\">\n",
       "      <th></th>\n",
       "      <th>pc1</th>\n",
       "      <th>pc2</th>\n",
       "      <th>pc3</th>\n",
       "      <th>Morfologia, Série Branca</th>\n",
       "      <th>Morfologia, Série Vermelha</th>\n",
       "      <th>class</th>\n",
       "    </tr>\n",
       "  </thead>\n",
       "  <tbody>\n",
       "    <tr>\n",
       "      <th>0</th>\n",
       "      <td>-94905.268642</td>\n",
       "      <td>-1740.518839</td>\n",
       "      <td>284.604928</td>\n",
       "      <td>24</td>\n",
       "      <td>79</td>\n",
       "      <td>0</td>\n",
       "    </tr>\n",
       "    <tr>\n",
       "      <th>1</th>\n",
       "      <td>-40896.755280</td>\n",
       "      <td>-1350.345759</td>\n",
       "      <td>256.816358</td>\n",
       "      <td>24</td>\n",
       "      <td>79</td>\n",
       "      <td>0</td>\n",
       "    </tr>\n",
       "    <tr>\n",
       "      <th>2</th>\n",
       "      <td>5118.159203</td>\n",
       "      <td>-245.337913</td>\n",
       "      <td>-165.557861</td>\n",
       "      <td>24</td>\n",
       "      <td>79</td>\n",
       "      <td>0</td>\n",
       "    </tr>\n",
       "    <tr>\n",
       "      <th>3</th>\n",
       "      <td>21154.576925</td>\n",
       "      <td>2492.362402</td>\n",
       "      <td>749.433353</td>\n",
       "      <td>24</td>\n",
       "      <td>79</td>\n",
       "      <td>0</td>\n",
       "    </tr>\n",
       "    <tr>\n",
       "      <th>4</th>\n",
       "      <td>9124.470472</td>\n",
       "      <td>345.538769</td>\n",
       "      <td>-441.241787</td>\n",
       "      <td>24</td>\n",
       "      <td>79</td>\n",
       "      <td>0</td>\n",
       "    </tr>\n",
       "  </tbody>\n",
       "</table>\n",
       "</div>"
      ],
      "text/plain": [
       "            pc1          pc2         pc3  Morfologia, Série Branca  \\\n",
       "0 -94905.268642 -1740.518839  284.604928                        24   \n",
       "1 -40896.755280 -1350.345759  256.816358                        24   \n",
       "2   5118.159203  -245.337913 -165.557861                        24   \n",
       "3  21154.576925  2492.362402  749.433353                        24   \n",
       "4   9124.470472   345.538769 -441.241787                        24   \n",
       "\n",
       "   Morfologia, Série Vermelha  class  \n",
       "0                          79      0  \n",
       "1                          79      0  \n",
       "2                          79      0  \n",
       "3                          79      0  \n",
       "4                          79      0  "
      ]
     },
     "execution_count": 33,
     "metadata": {},
     "output_type": "execute_result"
    }
   ],
   "source": [
    "data.head(5)"
   ]
  },
  {
   "cell_type": "markdown",
   "metadata": {},
   "source": [
    "# Machine Learning"
   ]
  },
  {
   "cell_type": "code",
   "execution_count": 18,
   "metadata": {},
   "outputs": [],
   "source": [
    "import sklearn.model_selection as model_selection\n",
    "from sklearn.neural_network import MLPClassifier\n",
    "from sklearn.preprocessing import MinMaxScaler"
   ]
  },
  {
   "cell_type": "markdown",
   "metadata": {},
   "source": [
    "Aplica o processo de normalização por MaxMin"
   ]
  },
  {
   "cell_type": "code",
   "execution_count": 141,
   "metadata": {},
   "outputs": [
    {
     "data": {
      "text/plain": [
       "MinMaxScaler()"
      ]
     },
     "execution_count": 141,
     "metadata": {},
     "output_type": "execute_result"
    }
   ],
   "source": [
    "scaler = MinMaxScaler()\n",
    "scaler.fit(data.drop('class', axis=1))"
   ]
  },
  {
   "cell_type": "code",
   "execution_count": 142,
   "metadata": {},
   "outputs": [],
   "source": [
    "target = data['class'].tolist()\n",
    "data = scaler.transform(data.drop('class', axis=1))"
   ]
  },
  {
   "cell_type": "code",
   "execution_count": 36,
   "metadata": {},
   "outputs": [
    {
     "ename": "KeyError",
     "evalue": "'class'",
     "output_type": "error",
     "traceback": [
      "\u001b[0;31m---------------------------------------------------------------------------\u001b[0m",
      "\u001b[0;31mKeyError\u001b[0m                                  Traceback (most recent call last)",
      "\u001b[0;32m/usr/local/lib/python3.7/site-packages/pandas/core/indexes/base.py\u001b[0m in \u001b[0;36mget_loc\u001b[0;34m(self, key, method, tolerance)\u001b[0m\n\u001b[1;32m   2888\u001b[0m             \u001b[0;32mtry\u001b[0m\u001b[0;34m:\u001b[0m\u001b[0;34m\u001b[0m\u001b[0;34m\u001b[0m\u001b[0m\n\u001b[0;32m-> 2889\u001b[0;31m                 \u001b[0;32mreturn\u001b[0m \u001b[0mself\u001b[0m\u001b[0;34m.\u001b[0m\u001b[0m_engine\u001b[0m\u001b[0;34m.\u001b[0m\u001b[0mget_loc\u001b[0m\u001b[0;34m(\u001b[0m\u001b[0mcasted_key\u001b[0m\u001b[0;34m)\u001b[0m\u001b[0;34m\u001b[0m\u001b[0;34m\u001b[0m\u001b[0m\n\u001b[0m\u001b[1;32m   2890\u001b[0m             \u001b[0;32mexcept\u001b[0m \u001b[0mKeyError\u001b[0m \u001b[0;32mas\u001b[0m \u001b[0merr\u001b[0m\u001b[0;34m:\u001b[0m\u001b[0;34m\u001b[0m\u001b[0;34m\u001b[0m\u001b[0m\n",
      "\u001b[0;32mpandas/_libs/index.pyx\u001b[0m in \u001b[0;36mpandas._libs.index.IndexEngine.get_loc\u001b[0;34m()\u001b[0m\n",
      "\u001b[0;32mpandas/_libs/index.pyx\u001b[0m in \u001b[0;36mpandas._libs.index.IndexEngine.get_loc\u001b[0;34m()\u001b[0m\n",
      "\u001b[0;32mpandas/_libs/hashtable_class_helper.pxi\u001b[0m in \u001b[0;36mpandas._libs.hashtable.PyObjectHashTable.get_item\u001b[0;34m()\u001b[0m\n",
      "\u001b[0;32mpandas/_libs/hashtable_class_helper.pxi\u001b[0m in \u001b[0;36mpandas._libs.hashtable.PyObjectHashTable.get_item\u001b[0;34m()\u001b[0m\n",
      "\u001b[0;31mKeyError\u001b[0m: 'class'",
      "\nThe above exception was the direct cause of the following exception:\n",
      "\u001b[0;31mKeyError\u001b[0m                                  Traceback (most recent call last)",
      "\u001b[0;32m<ipython-input-36-4d6c1def7760>\u001b[0m in \u001b[0;36m<module>\u001b[0;34m\u001b[0m\n\u001b[0;32m----> 1\u001b[0;31m \u001b[0mtarget\u001b[0m \u001b[0;34m=\u001b[0m \u001b[0mdata\u001b[0m\u001b[0;34m[\u001b[0m\u001b[0;34m'class'\u001b[0m\u001b[0;34m]\u001b[0m\u001b[0;34m.\u001b[0m\u001b[0mtolist\u001b[0m\u001b[0;34m(\u001b[0m\u001b[0;34m)\u001b[0m\u001b[0;34m\u001b[0m\u001b[0;34m\u001b[0m\u001b[0m\n\u001b[0m\u001b[1;32m      2\u001b[0m \u001b[0mdata\u001b[0m \u001b[0;34m=\u001b[0m \u001b[0mdata\u001b[0m\u001b[0;34m.\u001b[0m\u001b[0mdrop\u001b[0m\u001b[0;34m(\u001b[0m\u001b[0;34m'class'\u001b[0m\u001b[0;34m,\u001b[0m \u001b[0maxis\u001b[0m\u001b[0;34m=\u001b[0m\u001b[0;36m1\u001b[0m\u001b[0;34m)\u001b[0m\u001b[0;34m\u001b[0m\u001b[0;34m\u001b[0m\u001b[0m\n",
      "\u001b[0;32m/usr/local/lib/python3.7/site-packages/pandas/core/frame.py\u001b[0m in \u001b[0;36m__getitem__\u001b[0;34m(self, key)\u001b[0m\n\u001b[1;32m   2897\u001b[0m             \u001b[0;32mif\u001b[0m \u001b[0mself\u001b[0m\u001b[0;34m.\u001b[0m\u001b[0mcolumns\u001b[0m\u001b[0;34m.\u001b[0m\u001b[0mnlevels\u001b[0m \u001b[0;34m>\u001b[0m \u001b[0;36m1\u001b[0m\u001b[0;34m:\u001b[0m\u001b[0;34m\u001b[0m\u001b[0;34m\u001b[0m\u001b[0m\n\u001b[1;32m   2898\u001b[0m                 \u001b[0;32mreturn\u001b[0m \u001b[0mself\u001b[0m\u001b[0;34m.\u001b[0m\u001b[0m_getitem_multilevel\u001b[0m\u001b[0;34m(\u001b[0m\u001b[0mkey\u001b[0m\u001b[0;34m)\u001b[0m\u001b[0;34m\u001b[0m\u001b[0;34m\u001b[0m\u001b[0m\n\u001b[0;32m-> 2899\u001b[0;31m             \u001b[0mindexer\u001b[0m \u001b[0;34m=\u001b[0m \u001b[0mself\u001b[0m\u001b[0;34m.\u001b[0m\u001b[0mcolumns\u001b[0m\u001b[0;34m.\u001b[0m\u001b[0mget_loc\u001b[0m\u001b[0;34m(\u001b[0m\u001b[0mkey\u001b[0m\u001b[0;34m)\u001b[0m\u001b[0;34m\u001b[0m\u001b[0;34m\u001b[0m\u001b[0m\n\u001b[0m\u001b[1;32m   2900\u001b[0m             \u001b[0;32mif\u001b[0m \u001b[0mis_integer\u001b[0m\u001b[0;34m(\u001b[0m\u001b[0mindexer\u001b[0m\u001b[0;34m)\u001b[0m\u001b[0;34m:\u001b[0m\u001b[0;34m\u001b[0m\u001b[0;34m\u001b[0m\u001b[0m\n\u001b[1;32m   2901\u001b[0m                 \u001b[0mindexer\u001b[0m \u001b[0;34m=\u001b[0m \u001b[0;34m[\u001b[0m\u001b[0mindexer\u001b[0m\u001b[0;34m]\u001b[0m\u001b[0;34m\u001b[0m\u001b[0;34m\u001b[0m\u001b[0m\n",
      "\u001b[0;32m/usr/local/lib/python3.7/site-packages/pandas/core/indexes/base.py\u001b[0m in \u001b[0;36mget_loc\u001b[0;34m(self, key, method, tolerance)\u001b[0m\n\u001b[1;32m   2889\u001b[0m                 \u001b[0;32mreturn\u001b[0m \u001b[0mself\u001b[0m\u001b[0;34m.\u001b[0m\u001b[0m_engine\u001b[0m\u001b[0;34m.\u001b[0m\u001b[0mget_loc\u001b[0m\u001b[0;34m(\u001b[0m\u001b[0mcasted_key\u001b[0m\u001b[0;34m)\u001b[0m\u001b[0;34m\u001b[0m\u001b[0;34m\u001b[0m\u001b[0m\n\u001b[1;32m   2890\u001b[0m             \u001b[0;32mexcept\u001b[0m \u001b[0mKeyError\u001b[0m \u001b[0;32mas\u001b[0m \u001b[0merr\u001b[0m\u001b[0;34m:\u001b[0m\u001b[0;34m\u001b[0m\u001b[0;34m\u001b[0m\u001b[0m\n\u001b[0;32m-> 2891\u001b[0;31m                 \u001b[0;32mraise\u001b[0m \u001b[0mKeyError\u001b[0m\u001b[0;34m(\u001b[0m\u001b[0mkey\u001b[0m\u001b[0;34m)\u001b[0m \u001b[0;32mfrom\u001b[0m \u001b[0merr\u001b[0m\u001b[0;34m\u001b[0m\u001b[0;34m\u001b[0m\u001b[0m\n\u001b[0m\u001b[1;32m   2892\u001b[0m \u001b[0;34m\u001b[0m\u001b[0m\n\u001b[1;32m   2893\u001b[0m         \u001b[0;32mif\u001b[0m \u001b[0mtolerance\u001b[0m \u001b[0;32mis\u001b[0m \u001b[0;32mnot\u001b[0m \u001b[0;32mNone\u001b[0m\u001b[0;34m:\u001b[0m\u001b[0;34m\u001b[0m\u001b[0;34m\u001b[0m\u001b[0m\n",
      "\u001b[0;31mKeyError\u001b[0m: 'class'"
     ]
    }
   ],
   "source": [
    "target = data['class'].tolist()\n",
    "data = data.drop('class', axis=1)"
   ]
  },
  {
   "cell_type": "markdown",
   "metadata": {},
   "source": [
    "## Classificação convencional"
   ]
  },
  {
   "cell_type": "markdown",
   "metadata": {},
   "source": [
    "Divide os dados entre treinamento e teste"
   ]
  },
  {
   "cell_type": "code",
   "execution_count": 38,
   "metadata": {},
   "outputs": [],
   "source": [
    "X_train, X_test, y_train, y_test = model_selection.train_test_split(data.drop(['pc2','pc3'],axis=1), target, test_size=0.2, random_state=2578)"
   ]
  },
  {
   "cell_type": "code",
   "execution_count": 39,
   "metadata": {},
   "outputs": [
    {
     "name": "stdout",
     "output_type": "stream",
     "text": [
      "Train: {'negativo': 5764, 'positivo': 184}\n",
      "Test: {'negativo': 1436, 'positivo': 52}\n"
     ]
    }
   ],
   "source": [
    "print(f\"Train: {dict(Counter(encoders['class'].inverse_transform(y_train)))}\")\n",
    "print(f\"Test: {dict(Counter(encoders['class'].inverse_transform(y_test)))}\")"
   ]
  },
  {
   "cell_type": "code",
   "execution_count": 40,
   "metadata": {},
   "outputs": [],
   "source": [
    "model = MLPClassifier(\n",
    "    hidden_layer_sizes=(100,),\n",
    "    activation='relu',\n",
    "    solver='adam',\n",
    "    alpha=0.0001,\n",
    "    batch_size='auto',\n",
    "    learning_rate='constant',\n",
    "    learning_rate_init=0.001,\n",
    "    power_t=0.5,\n",
    "    max_iter=200,\n",
    "    shuffle=True,\n",
    "    random_state=None,\n",
    "    tol=0.0001,\n",
    "    verbose=False,\n",
    "    warm_start=False,\n",
    "    momentum=0.9,\n",
    "    nesterovs_momentum=True,\n",
    "    early_stopping=False,\n",
    "    validation_fraction=0.1,\n",
    "    beta_1=0.9,\n",
    "    beta_2=0.999,\n",
    "    epsilon=1e-08,\n",
    "    n_iter_no_change=10,\n",
    "    max_fun=15000\n",
    ")"
   ]
  },
  {
   "cell_type": "code",
   "execution_count": 41,
   "metadata": {},
   "outputs": [
    {
     "data": {
      "text/plain": [
       "MLPClassifier()"
      ]
     },
     "execution_count": 41,
     "metadata": {},
     "output_type": "execute_result"
    }
   ],
   "source": [
    "model.fit(X_train, y_train)"
   ]
  },
  {
   "cell_type": "code",
   "execution_count": 42,
   "metadata": {},
   "outputs": [],
   "source": [
    "y_pred = model.predict(X_test)"
   ]
  },
  {
   "cell_type": "code",
   "execution_count": 43,
   "metadata": {},
   "outputs": [],
   "source": [
    "import sklearn.metrics as metrics"
   ]
  },
  {
   "cell_type": "code",
   "execution_count": 44,
   "metadata": {},
   "outputs": [
    {
     "data": {
      "text/plain": [
       "{'ACCURACY': 0.9650537634408602,\n",
       " 'F1': 0.9822161422708618,\n",
       " 'F1_MICRO': 0.9650537634408602,\n",
       " 'F1_MACRO': 0.4911080711354309,\n",
       " 'PRECISION': 1.0,\n",
       " 'RECALL': 0.9650537634408602,\n",
       " 'KAPPA': 0.0,\n",
       " 'ACERTOS': 1436,\n",
       " 'ERROS': 52,\n",
       " 'COVERAGE': 0.0}"
      ]
     },
     "execution_count": 44,
     "metadata": {},
     "output_type": "execute_result"
    }
   ],
   "source": [
    "y_acc = y_pred == y_test\n",
    "y_true = [True] * len(y_acc)\n",
    "{\n",
    "    'ACCURACY': metrics.accuracy_score(y_true, y_acc),\n",
    "    'F1': metrics.f1_score(y_true, y_acc, average='weighted', pos_label=True),\n",
    "    'F1_MICRO': metrics.f1_score(y_true, y_acc, average='micro', pos_label=True),\n",
    "    'F1_MACRO': metrics.f1_score(y_true, y_acc, average='macro', pos_label=True),\n",
    "    'PRECISION': metrics.precision_score(y_true, y_acc, average='binary', pos_label=True),\n",
    "    'RECALL': metrics.recall_score(y_true, y_acc, average='binary', pos_label=True),\n",
    "    'KAPPA': metrics.cohen_kappa_score(y_true, y_acc),\n",
    "    'ACERTOS': Counter(y_acc)[True],\n",
    "    'ERROS': Counter(y_acc)[False],\n",
    "    'COVERAGE': 1-(Counter(y_acc)[False]/len(pd.Series(y_test)[~y_acc]))\n",
    "}"
   ]
  },
  {
   "cell_type": "markdown",
   "metadata": {},
   "source": [
    "## Anomaly detection"
   ]
  },
  {
   "cell_type": "code",
   "execution_count": 45,
   "metadata": {},
   "outputs": [],
   "source": [
    "from sklearn import svm"
   ]
  },
  {
   "cell_type": "markdown",
   "metadata": {},
   "source": [
    "Vamos tentar abordar isso como um problema de detecção de anomalias"
   ]
  },
  {
   "cell_type": "code",
   "execution_count": 46,
   "metadata": {},
   "outputs": [],
   "source": [
    "X_train, X_test, y_train, y_test = model_selection.train_test_split(data, [True if x == 1 else False for x in target], test_size=0.2, random_state=2578)"
   ]
  },
  {
   "cell_type": "code",
   "execution_count": 47,
   "metadata": {},
   "outputs": [
    {
     "name": "stdout",
     "output_type": "stream",
     "text": [
      "Train: Counter({False: 5764, True: 184})\n",
      "Test: Counter({False: 1436, True: 52})\n"
     ]
    }
   ],
   "source": [
    "print(f\"Train: {Counter(y_train)}\")\n",
    "print(f\"Test: {Counter(y_test)}\")"
   ]
  },
  {
   "cell_type": "code",
   "execution_count": null,
   "metadata": {},
   "outputs": [],
   "source": [
    "model = svm.OneClassSVM(nu=0.15, kernel=\"linear\", gamma=0.1)\n",
    "model.fit(X_train, y_train)"
   ]
  },
  {
   "cell_type": "code",
   "execution_count": null,
   "metadata": {},
   "outputs": [],
   "source": [
    "y_pred = model.predict(X_test)"
   ]
  },
  {
   "cell_type": "code",
   "execution_count": null,
   "metadata": {},
   "outputs": [],
   "source": [
    "y_pred = [False if x == 1 else True for x in y_pred]"
   ]
  },
  {
   "cell_type": "code",
   "execution_count": null,
   "metadata": {},
   "outputs": [],
   "source": [
    "y_acc = pd.Series(y_pred) == pd.Series(y_test)\n",
    "{\n",
    "    'ACCURACY': metrics.accuracy_score(y_test, y_pred),\n",
    "    'F1': metrics.f1_score(y_test, y_pred, average='weighted', pos_label=True),\n",
    "    'F1_MICRO': metrics.f1_score(y_test, y_pred, average='micro', pos_label=True),\n",
    "    'F1_MACRO': metrics.f1_score(y_test, y_pred, average='macro', pos_label=True),\n",
    "    'PRECISION': metrics.precission_score(y_test, y_pred, average='binary', pos_label=True),\n",
    "    'RECALL': metrics.recall_score(y_test, y_pred, average='binary', pos_label=True),\n",
    "    'KAPPA': metrics.cohen_kappa_score(y_test, y_pred),\n",
    "    'ACERTOS': Counter(y_acc)[True],\n",
    "    'ERROS': Counter(y_acc)[False],\n",
    "    'COVERAGE': 1-(Counter(y_acc)[False]/len(pd.Series(y_test)[~y_acc]))\n",
    "}"
   ]
  },
  {
   "cell_type": "markdown",
   "metadata": {},
   "source": [
    "Ainda sem sucesso"
   ]
  },
  {
   "cell_type": "markdown",
   "metadata": {},
   "source": [
    "### Analise de componentes principais"
   ]
  },
  {
   "cell_type": "code",
   "execution_count": 8,
   "metadata": {},
   "outputs": [],
   "source": [
    "from sklearn.decomposition import PCA"
   ]
  },
  {
   "cell_type": "code",
   "execution_count": 21,
   "metadata": {},
   "outputs": [],
   "source": [
    "data = pd.read_csv(os.path.join(pwd, 'ml_inputs.csv'), sep=';')"
   ]
  },
  {
   "cell_type": "code",
   "execution_count": 22,
   "metadata": {},
   "outputs": [
    {
     "data": {
      "text/html": [
       "<div>\n",
       "<style scoped>\n",
       "    .dataframe tbody tr th:only-of-type {\n",
       "        vertical-align: middle;\n",
       "    }\n",
       "\n",
       "    .dataframe tbody tr th {\n",
       "        vertical-align: top;\n",
       "    }\n",
       "\n",
       "    .dataframe thead th {\n",
       "        text-align: right;\n",
       "    }\n",
       "</style>\n",
       "<table border=\"1\" class=\"dataframe\">\n",
       "  <thead>\n",
       "    <tr style=\"text-align: right;\">\n",
       "      <th></th>\n",
       "      <th>Basófilos</th>\n",
       "      <th>Concentração de Hemoglobina Corpuscular</th>\n",
       "      <th>Eosinófilos</th>\n",
       "      <th>Eritrócitos</th>\n",
       "      <th>Hematócrito</th>\n",
       "      <th>Hemoglobina</th>\n",
       "      <th>Hemoglobina Corpuscular Média</th>\n",
       "      <th>Leucócitos</th>\n",
       "      <th>Linfócitos</th>\n",
       "      <th>Monócitos</th>\n",
       "      <th>Morfologia, Série Branca</th>\n",
       "      <th>Morfologia, Série Vermelha</th>\n",
       "      <th>Neutrófilos</th>\n",
       "      <th>Plaquetas</th>\n",
       "      <th>RDW</th>\n",
       "      <th>VCM</th>\n",
       "      <th>Volume plaquetário médio</th>\n",
       "      <th>class</th>\n",
       "    </tr>\n",
       "  </thead>\n",
       "  <tbody>\n",
       "    <tr>\n",
       "      <th>0</th>\n",
       "      <td>80.0</td>\n",
       "      <td>33.4</td>\n",
       "      <td>110.0</td>\n",
       "      <td>5.66</td>\n",
       "      <td>42.2</td>\n",
       "      <td>14.1</td>\n",
       "      <td>24.9</td>\n",
       "      <td>10440.0</td>\n",
       "      <td>3460.0</td>\n",
       "      <td>850.0</td>\n",
       "      <td>não foram observados caracteres tóxico-degener...</td>\n",
       "      <td>microcitose discreta</td>\n",
       "      <td>5940.0</td>\n",
       "      <td>254000.0</td>\n",
       "      <td>13.6</td>\n",
       "      <td>74.6</td>\n",
       "      <td>10.575065</td>\n",
       "      <td>desconhecido</td>\n",
       "    </tr>\n",
       "    <tr>\n",
       "      <th>1</th>\n",
       "      <td>40.0</td>\n",
       "      <td>34.0</td>\n",
       "      <td>360.0</td>\n",
       "      <td>4.84</td>\n",
       "      <td>47.1</td>\n",
       "      <td>16.0</td>\n",
       "      <td>33.1</td>\n",
       "      <td>4370.0</td>\n",
       "      <td>1720.0</td>\n",
       "      <td>390.0</td>\n",
       "      <td>não foram observados caracteres tóxico-degener...</td>\n",
       "      <td>normais</td>\n",
       "      <td>1860.0</td>\n",
       "      <td>160000.0</td>\n",
       "      <td>12.8</td>\n",
       "      <td>97.3</td>\n",
       "      <td>11.200000</td>\n",
       "      <td>negativo</td>\n",
       "    </tr>\n",
       "    <tr>\n",
       "      <th>2</th>\n",
       "      <td>30.0</td>\n",
       "      <td>34.4</td>\n",
       "      <td>140.0</td>\n",
       "      <td>4.55</td>\n",
       "      <td>40.7</td>\n",
       "      <td>14.0</td>\n",
       "      <td>30.8</td>\n",
       "      <td>5140.0</td>\n",
       "      <td>2080.0</td>\n",
       "      <td>410.0</td>\n",
       "      <td>não foram observados caracteres tóxico-degener...</td>\n",
       "      <td>normais</td>\n",
       "      <td>2480.0</td>\n",
       "      <td>214000.0</td>\n",
       "      <td>12.5</td>\n",
       "      <td>89.5</td>\n",
       "      <td>12.200000</td>\n",
       "      <td>negativo</td>\n",
       "    </tr>\n",
       "    <tr>\n",
       "      <th>3</th>\n",
       "      <td>70.0</td>\n",
       "      <td>33.3</td>\n",
       "      <td>10.0</td>\n",
       "      <td>4.43</td>\n",
       "      <td>40.5</td>\n",
       "      <td>13.5</td>\n",
       "      <td>30.5</td>\n",
       "      <td>6340.0</td>\n",
       "      <td>2100.0</td>\n",
       "      <td>530.0</td>\n",
       "      <td>não foram observados caracteres tóxico-degener...</td>\n",
       "      <td>normais</td>\n",
       "      <td>3630.0</td>\n",
       "      <td>260000.0</td>\n",
       "      <td>13.0</td>\n",
       "      <td>91.4</td>\n",
       "      <td>10.300000</td>\n",
       "      <td>negativo</td>\n",
       "    </tr>\n",
       "    <tr>\n",
       "      <th>4</th>\n",
       "      <td>80.0</td>\n",
       "      <td>31.7</td>\n",
       "      <td>220.0</td>\n",
       "      <td>4.84</td>\n",
       "      <td>41.0</td>\n",
       "      <td>13.0</td>\n",
       "      <td>26.9</td>\n",
       "      <td>7240.0</td>\n",
       "      <td>2570.0</td>\n",
       "      <td>630.0</td>\n",
       "      <td>não foram observados caracteres tóxico-degener...</td>\n",
       "      <td>normais</td>\n",
       "      <td>3740.0</td>\n",
       "      <td>286000.0</td>\n",
       "      <td>13.7</td>\n",
       "      <td>84.7</td>\n",
       "      <td>10.700000</td>\n",
       "      <td>desconhecido</td>\n",
       "    </tr>\n",
       "  </tbody>\n",
       "</table>\n",
       "</div>"
      ],
      "text/plain": [
       "   Basófilos  Concentração de Hemoglobina Corpuscular  Eosinófilos  \\\n",
       "0       80.0                                     33.4        110.0   \n",
       "1       40.0                                     34.0        360.0   \n",
       "2       30.0                                     34.4        140.0   \n",
       "3       70.0                                     33.3         10.0   \n",
       "4       80.0                                     31.7        220.0   \n",
       "\n",
       "   Eritrócitos  Hematócrito  Hemoglobina  Hemoglobina Corpuscular Média  \\\n",
       "0         5.66         42.2         14.1                           24.9   \n",
       "1         4.84         47.1         16.0                           33.1   \n",
       "2         4.55         40.7         14.0                           30.8   \n",
       "3         4.43         40.5         13.5                           30.5   \n",
       "4         4.84         41.0         13.0                           26.9   \n",
       "\n",
       "   Leucócitos  Linfócitos  Monócitos  \\\n",
       "0     10440.0      3460.0      850.0   \n",
       "1      4370.0      1720.0      390.0   \n",
       "2      5140.0      2080.0      410.0   \n",
       "3      6340.0      2100.0      530.0   \n",
       "4      7240.0      2570.0      630.0   \n",
       "\n",
       "                            Morfologia, Série Branca  \\\n",
       "0  não foram observados caracteres tóxico-degener...   \n",
       "1  não foram observados caracteres tóxico-degener...   \n",
       "2  não foram observados caracteres tóxico-degener...   \n",
       "3  não foram observados caracteres tóxico-degener...   \n",
       "4  não foram observados caracteres tóxico-degener...   \n",
       "\n",
       "  Morfologia, Série Vermelha  Neutrófilos  Plaquetas   RDW   VCM  \\\n",
       "0       microcitose discreta       5940.0   254000.0  13.6  74.6   \n",
       "1                    normais       1860.0   160000.0  12.8  97.3   \n",
       "2                    normais       2480.0   214000.0  12.5  89.5   \n",
       "3                    normais       3630.0   260000.0  13.0  91.4   \n",
       "4                    normais       3740.0   286000.0  13.7  84.7   \n",
       "\n",
       "   Volume plaquetário médio         class  \n",
       "0                 10.575065  desconhecido  \n",
       "1                 11.200000      negativo  \n",
       "2                 12.200000      negativo  \n",
       "3                 10.300000      negativo  \n",
       "4                 10.700000  desconhecido  "
      ]
     },
     "execution_count": 22,
     "metadata": {},
     "output_type": "execute_result"
    }
   ],
   "source": [
    "data.head(5)"
   ]
  },
  {
   "cell_type": "code",
   "execution_count": 23,
   "metadata": {},
   "outputs": [],
   "source": [
    "data.drop(data[data['class'] == 'desconhecido'].index,axis=0, inplace=True)\n",
    "data.reset_index(inplace=True)\n",
    "data.drop('index', axis=1, inplace=True)"
   ]
  },
  {
   "cell_type": "code",
   "execution_count": 24,
   "metadata": {},
   "outputs": [],
   "source": [
    "numeric_columns = data.columns[(data.dtypes.values == np.dtype('float64'))]\n",
    "nonnumeric_columns = data.columns[(data.dtypes.values != np.dtype('float64'))]"
   ]
  },
  {
   "cell_type": "code",
   "execution_count": 25,
   "metadata": {},
   "outputs": [],
   "source": [
    "pca = PCA(n_components=3, copy=True, whiten=False, svd_solver='auto', tol=0.0, iterated_power='auto', random_state=2578)"
   ]
  },
  {
   "cell_type": "code",
   "execution_count": 26,
   "metadata": {},
   "outputs": [],
   "source": [
    "pca.fit(data[numeric_columns])\n",
    "pc = pd.DataFrame(pca.transform(data[numeric_columns]))"
   ]
  },
  {
   "cell_type": "code",
   "execution_count": 27,
   "metadata": {},
   "outputs": [
    {
     "data": {
      "text/plain": [
       "7436"
      ]
     },
     "execution_count": 27,
     "metadata": {},
     "output_type": "execute_result"
    }
   ],
   "source": [
    "len(data)"
   ]
  },
  {
   "cell_type": "code",
   "execution_count": 28,
   "metadata": {},
   "outputs": [],
   "source": [
    "\n",
    "data = pd.concat([pc, data[nonnumeric_columns]], axis=1, ignore_index=False).rename(columns={0:'pc1',1:'pc2',2:'pc3'})"
   ]
  },
  {
   "cell_type": "code",
   "execution_count": 29,
   "metadata": {},
   "outputs": [
    {
     "data": {
      "text/html": [
       "<div>\n",
       "<style scoped>\n",
       "    .dataframe tbody tr th:only-of-type {\n",
       "        vertical-align: middle;\n",
       "    }\n",
       "\n",
       "    .dataframe tbody tr th {\n",
       "        vertical-align: top;\n",
       "    }\n",
       "\n",
       "    .dataframe thead th {\n",
       "        text-align: right;\n",
       "    }\n",
       "</style>\n",
       "<table border=\"1\" class=\"dataframe\">\n",
       "  <thead>\n",
       "    <tr style=\"text-align: right;\">\n",
       "      <th></th>\n",
       "      <th>pc1</th>\n",
       "      <th>pc2</th>\n",
       "      <th>pc3</th>\n",
       "      <th>Morfologia, Série Branca</th>\n",
       "      <th>Morfologia, Série Vermelha</th>\n",
       "      <th>class</th>\n",
       "    </tr>\n",
       "  </thead>\n",
       "  <tbody>\n",
       "    <tr>\n",
       "      <th>0</th>\n",
       "      <td>-94905.268642</td>\n",
       "      <td>-1740.518839</td>\n",
       "      <td>284.604928</td>\n",
       "      <td>não foram observados caracteres tóxico-degener...</td>\n",
       "      <td>normais</td>\n",
       "      <td>negativo</td>\n",
       "    </tr>\n",
       "    <tr>\n",
       "      <th>1</th>\n",
       "      <td>-40896.755280</td>\n",
       "      <td>-1350.345759</td>\n",
       "      <td>256.816358</td>\n",
       "      <td>não foram observados caracteres tóxico-degener...</td>\n",
       "      <td>normais</td>\n",
       "      <td>negativo</td>\n",
       "    </tr>\n",
       "    <tr>\n",
       "      <th>2</th>\n",
       "      <td>5118.159203</td>\n",
       "      <td>-245.337913</td>\n",
       "      <td>-165.557861</td>\n",
       "      <td>não foram observados caracteres tóxico-degener...</td>\n",
       "      <td>normais</td>\n",
       "      <td>negativo</td>\n",
       "    </tr>\n",
       "    <tr>\n",
       "      <th>3</th>\n",
       "      <td>21154.576925</td>\n",
       "      <td>2492.362402</td>\n",
       "      <td>749.433353</td>\n",
       "      <td>não foram observados caracteres tóxico-degener...</td>\n",
       "      <td>normais</td>\n",
       "      <td>negativo</td>\n",
       "    </tr>\n",
       "    <tr>\n",
       "      <th>4</th>\n",
       "      <td>9124.470472</td>\n",
       "      <td>345.538769</td>\n",
       "      <td>-441.241787</td>\n",
       "      <td>não foram observados caracteres tóxico-degener...</td>\n",
       "      <td>normais</td>\n",
       "      <td>negativo</td>\n",
       "    </tr>\n",
       "    <tr>\n",
       "      <th>...</th>\n",
       "      <td>...</td>\n",
       "      <td>...</td>\n",
       "      <td>...</td>\n",
       "      <td>...</td>\n",
       "      <td>...</td>\n",
       "      <td>...</td>\n",
       "    </tr>\n",
       "    <tr>\n",
       "      <th>7431</th>\n",
       "      <td>-61881.850539</td>\n",
       "      <td>338.348879</td>\n",
       "      <td>-707.328885</td>\n",
       "      <td>não foram observados caracteres tóxico-degener...</td>\n",
       "      <td>normais</td>\n",
       "      <td>negativo</td>\n",
       "    </tr>\n",
       "    <tr>\n",
       "      <th>7432</th>\n",
       "      <td>-46893.291079</td>\n",
       "      <td>-1359.721256</td>\n",
       "      <td>1416.741887</td>\n",
       "      <td>granulações tóxicas pouco abundantes em alguns...</td>\n",
       "      <td>microcitose discreta</td>\n",
       "      <td>negativo</td>\n",
       "    </tr>\n",
       "    <tr>\n",
       "      <th>7433</th>\n",
       "      <td>-97903.337642</td>\n",
       "      <td>-1295.058065</td>\n",
       "      <td>-596.900722</td>\n",
       "      <td>não foram observados caracteres tóxico-degener...</td>\n",
       "      <td>normais</td>\n",
       "      <td>positivo</td>\n",
       "    </tr>\n",
       "    <tr>\n",
       "      <th>7434</th>\n",
       "      <td>-1894.676782</td>\n",
       "      <td>-1527.618870</td>\n",
       "      <td>621.967208</td>\n",
       "      <td>não foram observados caracteres tóxico-degener...</td>\n",
       "      <td>normais</td>\n",
       "      <td>negativo</td>\n",
       "    </tr>\n",
       "    <tr>\n",
       "      <th>7435</th>\n",
       "      <td>66158.702450</td>\n",
       "      <td>2718.372501</td>\n",
       "      <td>184.030592</td>\n",
       "      <td>não foram observados caracteres tóxico-degener...</td>\n",
       "      <td>normais</td>\n",
       "      <td>negativo</td>\n",
       "    </tr>\n",
       "  </tbody>\n",
       "</table>\n",
       "<p>7436 rows × 6 columns</p>\n",
       "</div>"
      ],
      "text/plain": [
       "               pc1          pc2          pc3  \\\n",
       "0    -94905.268642 -1740.518839   284.604928   \n",
       "1    -40896.755280 -1350.345759   256.816358   \n",
       "2      5118.159203  -245.337913  -165.557861   \n",
       "3     21154.576925  2492.362402   749.433353   \n",
       "4      9124.470472   345.538769  -441.241787   \n",
       "...            ...          ...          ...   \n",
       "7431 -61881.850539   338.348879  -707.328885   \n",
       "7432 -46893.291079 -1359.721256  1416.741887   \n",
       "7433 -97903.337642 -1295.058065  -596.900722   \n",
       "7434  -1894.676782 -1527.618870   621.967208   \n",
       "7435  66158.702450  2718.372501   184.030592   \n",
       "\n",
       "                               Morfologia, Série Branca  \\\n",
       "0     não foram observados caracteres tóxico-degener...   \n",
       "1     não foram observados caracteres tóxico-degener...   \n",
       "2     não foram observados caracteres tóxico-degener...   \n",
       "3     não foram observados caracteres tóxico-degener...   \n",
       "4     não foram observados caracteres tóxico-degener...   \n",
       "...                                                 ...   \n",
       "7431  não foram observados caracteres tóxico-degener...   \n",
       "7432  granulações tóxicas pouco abundantes em alguns...   \n",
       "7433  não foram observados caracteres tóxico-degener...   \n",
       "7434  não foram observados caracteres tóxico-degener...   \n",
       "7435  não foram observados caracteres tóxico-degener...   \n",
       "\n",
       "     Morfologia, Série Vermelha     class  \n",
       "0                       normais  negativo  \n",
       "1                       normais  negativo  \n",
       "2                       normais  negativo  \n",
       "3                       normais  negativo  \n",
       "4                       normais  negativo  \n",
       "...                         ...       ...  \n",
       "7431                    normais  negativo  \n",
       "7432       microcitose discreta  negativo  \n",
       "7433                    normais  positivo  \n",
       "7434                    normais  negativo  \n",
       "7435                    normais  negativo  \n",
       "\n",
       "[7436 rows x 6 columns]"
      ]
     },
     "execution_count": 29,
     "metadata": {},
     "output_type": "execute_result"
    }
   ],
   "source": [
    "data"
   ]
  },
  {
   "cell_type": "code",
   "execution_count": null,
   "metadata": {},
   "outputs": [],
   "source": []
  }
 ],
 "metadata": {
  "kernelspec": {
   "display_name": "Python 3",
   "language": "python",
   "name": "python3"
  },
  "language_info": {
   "codemirror_mode": {
    "name": "ipython",
    "version": 3
   },
   "file_extension": ".py",
   "mimetype": "text/x-python",
   "name": "python",
   "nbconvert_exporter": "python",
   "pygments_lexer": "ipython3",
   "version": "3.7.4"
  }
 },
 "nbformat": 4,
 "nbformat_minor": 4
}
