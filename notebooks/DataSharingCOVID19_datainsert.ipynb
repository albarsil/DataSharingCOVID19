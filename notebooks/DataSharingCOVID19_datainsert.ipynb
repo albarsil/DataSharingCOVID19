{
 "cells": [
  {
   "cell_type": "code",
   "execution_count": 9,
   "metadata": {},
   "outputs": [],
   "source": [
    "import pymongo\n",
    "import pandas as pd\n",
    "import numpy as np\n",
    "import os\n",
    "import sys"
   ]
  },
  {
   "cell_type": "code",
   "execution_count": 5,
   "metadata": {},
   "outputs": [],
   "source": [
    "pwd = %pwd\n",
    "pwd = os.path.join(pwd, 'dados')"
   ]
  },
  {
   "cell_type": "code",
   "execution_count": 6,
   "metadata": {},
   "outputs": [],
   "source": [
    "sys.path.insert(0, pwd)"
   ]
  },
  {
   "cell_type": "code",
   "execution_count": 7,
   "metadata": {},
   "outputs": [],
   "source": [
    "data_mapping = {\n",
    "    'EINSTEINAgosto':{'name':'EINSTEIN', 'exames':'EINSTEIN_Exames_2.csv', 'pacientes':'EINSTEIN_Pacientes_2.csv'},\n",
    "    'GrupoFleuryAgosto':{'name':'GrupoFleury', 'exames':'GrupoFleury_Exames_2.csv', 'pacientes':'GrupoFleury_Pacientes_2.csv'},\n",
    "    'final':{'name':'HSL', 'exames':'HSL_Exames_2.csv', 'pacientes':'HSL_Pacientes_2.csv'}\n",
    "}"
   ]
  },
  {
   "cell_type": "code",
   "execution_count": null,
   "metadata": {},
   "outputs": [],
   "source": [
    "exames = None\n",
    "for key in data_mapping.keys():\n",
    "    f = os.path.join(pwd, os.path.join(key, data_mapping[key]['exames']))\n",
    "    \n",
    "    if exames is None:\n",
    "        exames = pd.read_csv(f, sep='|')\n",
    "        exames['source'] = [data_mapping[key]['name']] * len(exames)\n",
    "    else:\n",
    "        _tmp = pd.read_csv(f, sep='|')\n",
    "        _tmp['source'] = [data_mapping[key]['name']] * len(_tmp)\n",
    "        exames = pd.concat([exames, _tmp], axis=0)\n",
    "exames = exames.replace({np.NaN : None})"
   ]
  },
  {
   "cell_type": "code",
   "execution_count": null,
   "metadata": {},
   "outputs": [],
   "source": [
    "pacientes = None\n",
    "for key in data_mapping.keys():\n",
    "    f = os.path.join(pwd, os.path.join(key, data_mapping[key]['pacientes']))\n",
    "    \n",
    "    if pacientes is None:\n",
    "        pacientes = pd.read_csv(f, sep='|')\n",
    "        pacientes['source'] = [data_mapping[key]['name']] * len(pacientes)\n",
    "    else:\n",
    "        _tmp = pd.read_csv(f, sep='|')\n",
    "        _tmp['source'] = [data_mapping[key]['name']] * len(_tmp)\n",
    "        pacientes = pd.concat([pacientes, _tmp], axis=0)\n",
    "pacientes = pacientes.replace({np.NaN : None})"
   ]
  },
  {
   "cell_type": "code",
   "execution_count": null,
   "metadata": {},
   "outputs": [],
   "source": [
    "pacientes.head()"
   ]
  },
  {
   "cell_type": "code",
   "execution_count": null,
   "metadata": {},
   "outputs": [],
   "source": [
    "exames.head()"
   ]
  },
  {
   "cell_type": "code",
   "execution_count": null,
   "metadata": {},
   "outputs": [],
   "source": [
    "exames = exames.to_dict(orient='records')"
   ]
  },
  {
   "cell_type": "code",
   "execution_count": null,
   "metadata": {},
   "outputs": [],
   "source": [
    "pacientes = pacientes.to_dict(orient='records')"
   ]
  },
  {
   "cell_type": "markdown",
   "metadata": {},
   "source": [
    "Create connection"
   ]
  },
  {
   "cell_type": "code",
   "execution_count": null,
   "metadata": {},
   "outputs": [],
   "source": [
    "client = pymongo.MongoClient(\"mongodb+srv://admin:<password>@cluster0.pfryc.mongodb.net/<dbname>?retryWrites=true&w=majority\")\n",
    "client.server_info()"
   ]
  },
  {
   "cell_type": "code",
   "execution_count": null,
   "metadata": {},
   "outputs": [],
   "source": [
    "db = client.test"
   ]
  },
  {
   "cell_type": "markdown",
   "metadata": {},
   "source": [
    "Create table"
   ]
  },
  {
   "cell_type": "code",
   "execution_count": 14,
   "metadata": {},
   "outputs": [],
   "source": [
    "tbl_exames = db.exams\n",
    "tbl_pacientes = db.patients"
   ]
  },
  {
   "cell_type": "code",
   "execution_count": null,
   "metadata": {},
   "outputs": [],
   "source": [
    "tbl_exames.insert_one(data[0])"
   ]
  },
  {
   "cell_type": "code",
   "execution_count": null,
   "metadata": {},
   "outputs": [],
   "source": [
    "tbl_exames.insert_many(exames, ordered=False)"
   ]
  },
  {
   "cell_type": "code",
   "execution_count": null,
   "metadata": {},
   "outputs": [],
   "source": [
    "tbl_pacientes.insert_many(pacientes, ordered=False)"
   ]
  }
 ],
 "metadata": {
  "kernelspec": {
   "display_name": "Python 3",
   "language": "python",
   "name": "python3"
  },
  "language_info": {
   "codemirror_mode": {
    "name": "ipython",
    "version": 3
   },
   "file_extension": ".py",
   "mimetype": "text/x-python",
   "name": "python",
   "nbconvert_exporter": "python",
   "pygments_lexer": "ipython3",
   "version": "3.7.4"
  }
 },
 "nbformat": 4,
 "nbformat_minor": 4
}
